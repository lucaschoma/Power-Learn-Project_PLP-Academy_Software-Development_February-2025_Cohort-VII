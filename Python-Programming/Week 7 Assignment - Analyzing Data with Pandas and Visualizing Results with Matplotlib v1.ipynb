# Task 1: Load and Explore the Dataset
import pandas as pd
import matplotlib.pyplot as plt
import seaborn as sns
from sklearn.datasets import load_iris

# Error handling for loading dataset
try:
    # Load the Iris dataset
    iris = load_iris(as_frame=True)
    df = iris.frame
    print("✅ Dataset loaded successfully.")
except Exception as e:
    print("❌ Error loading dataset:", e)

# Display first few rows
print("\n=== First 5 Rows ===")
print(df.head())

# Check data types and missing values
print("\n=== Dataset Info ===")
print(df.info())

print("\n=== Missing Values ===")
print(df.isnull().sum())

# Clean dataset (no missing values in iris, but example shown)
df.dropna(inplace=True)


# Task 2: Basic Data Analysis
# Basic statistics
print("\n=== Summary Statistics ===")
print(df.describe())

# Group by species and compute mean
grouped = df.groupby("target")
print("\n=== Mean values by species (target) ===")
print(grouped.mean())

# Add species names for readability
df["species"] = df["target"].apply(lambda i: iris.target_names[i])
grouped_by_species = df.groupby("species").mean()

# Observations
print("\n=== Observations ===")
print("- Setosa has the smallest average petal length.")
print("- Versicolor and Virginica have longer sepal and petal measurements.")


# Task 3: Data Visualization
# Line Chart – Average Sepal Length per Sample Index
plt.figure(figsize=(8, 4))
plt.plot(df.index, df["sepal length (cm)"], label="Sepal Length", color='green')
plt.title("Sepal Length over Sample Index")
plt.xlabel("Index")
plt.ylabel("Sepal Length (cm)")
plt.grid(True)
plt.legend()
plt.tight_layout()
plt.show()

# Bar Chart – Average Petal Length by Species
grouped_by_species["petal length (cm)"].plot(kind="bar", color="skyblue", title="Average Petal Length by Species")
plt.xlabel("Species")
plt.ylabel("Petal Length (cm)")
plt.tight_layout()
plt.show()

# Histogram – Distribution of Sepal Width
plt.figure(figsize=(6, 4))
plt.hist(df["sepal width (cm)"], bins=15, color="orange", edgecolor="black")
plt.title("Distribution of Sepal Width")
plt.xlabel("Sepal Width (cm)")
plt.ylabel("Frequency")
plt.tight_layout()
plt.show()

# Scatter Plot – Sepal Length vs Petal Length
plt.figure(figsize=(6, 4))
sns.scatterplot(data=df, x="sepal length (cm)", y="petal length (cm)", hue="species", palette="Set1")
plt.title("Sepal Length vs Petal Length")
plt.xlabel("Sepal Length (cm)")
plt.ylabel("Petal Length (cm)")
plt.legend(title="Species")
plt.tight_layout()
plt.show()
